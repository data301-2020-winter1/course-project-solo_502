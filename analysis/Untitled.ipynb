{
 "cells": [
  {
   "cell_type": "code",
   "execution_count": null,
   "metadata": {},
   "outputs": [],
   "source": [
    "import pandas as pd\n",
    "import numpy as np\n",
    "from functools import reduce\n",
    "\n",
    "\n",
    "df = pd.read_csv(r'C:\\Users\\Len\\Documents\\GitHub\\solo_502\\course-project-solo_502\\data\\raw\\ClimateData_UBCO.csv')\n",
    "\n",
    "\n",
    "# selecting only variables of interest\n",
    "big_white = df.iloc[:,[3, 4,12,20,23,35,30,31,39,43,47,51,67,79]]\n",
    "big_white_year = df.iloc[:,3]\n",
    "# big_white_year = \n",
    "\n",
    "# weather data by month\n",
    "big_white_monthly = df.iloc[:,83:251]\n",
    "\n",
    "# separating monthly variables, Transposing and melting puts all 12 monthly values in order and then in succession of years. \n",
    "big_white_tmax = big_white_monthly.iloc[:,0:12].T.melt()\n",
    "big_white_tmin = big_white_monthly.iloc[:,12:24].T.melt()\n",
    "big_white_tave = big_white_monthly.iloc[:,24:36].T.melt()\n",
    "big_white_prec = big_white_monthly.iloc[:,36:48].T.melt()\n",
    "big_white_rad = big_white_monthly.iloc[:,48:60].T.melt()\n",
    "big_white_freeze = big_white_monthly.iloc[:,60:72].T.melt()\n",
    "big_white_above5 = big_white_monthly.iloc[:,72:84].T.melt()\n",
    "big_white_below18 = big_white_monthly.iloc[:,84:96].T.melt()\n",
    "big_white_above18 = big_white_monthly.iloc[:,96:108].T.melt()\n",
    "big_white_nffd = big_white_monthly.iloc[:,108:120].T.melt()\n",
    "big_white_pas = big_white_monthly.iloc[:,120:132].T.melt()\n",
    "big_white_eref = big_white_monthly.iloc[:,132:144].T.melt()\n",
    "big_white_cmd = big_white_monthly.iloc[:,144:156].T.melt()\n",
    "big_white_rh = big_white_monthly.iloc[:,156:168].T.melt()\n",
    "\n",
    "# creating a list for the dataframe to merge them. Renaming columns. Unsure why some monthly variables measure yearly numbers though\n",
    "monthly_dataframes = [big_white_tmax['value'], big_white_tmin['value'], big_white_tave['value'], big_white_prec['value'], \n",
    "                      big_white_rad['value'], big_white_freeze['value'], big_white_above5['value'], big_white_below18['value'], \n",
    "                      big_white_above18['value'], big_white_nffd['value'], big_white_pas['value'], big_white_eref['value'], \n",
    "                      big_white_cmd['value'], big_white_rh['value']]\n",
    "kds = pd.concat(monthly_dataframes, join='outer', axis = 1)\n",
    "kds.columns = ['Max Temp', 'Min Temp', 'Ave Temp', 'Precipitation', 'Radiation', 'Days < 0°C', 'Days < 5°C', \n",
    "            'Days < 18°C', 'Days > 18°C', 'Frost Free Days', 'Snowfall', 'Evaporation', \n",
    "            'Moisture Deficit', 'Relative Humidity']\n",
    "kds\n",
    "\n",
    "\n"
   ]
  }
 ],
 "metadata": {
  "kernelspec": {
   "display_name": "Python 3",
   "language": "python",
   "name": "python3"
  },
  "language_info": {
   "codemirror_mode": {
    "name": "ipython",
    "version": 3
   },
   "file_extension": ".py",
   "mimetype": "text/x-python",
   "name": "python",
   "nbconvert_exporter": "python",
   "pygments_lexer": "ipython3",
   "version": "3.8.6"
  }
 },
 "nbformat": 4,
 "nbformat_minor": 4
}
